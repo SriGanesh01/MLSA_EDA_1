{
 "cells": [
  {
   "cell_type": "code",
   "execution_count": 37,
   "metadata": {},
   "outputs": [],
   "source": [
    "import pandas as pd\n",
    "import numpy as np\n",
    "import matplotlib.pyplot as plt"
   ]
  },
  {
   "cell_type": "code",
   "execution_count": 38,
   "metadata": {},
   "outputs": [],
   "source": [
    "Employee_HR = pd.read_csv(r\"Employee_HR.csv\")"
   ]
  },
  {
   "cell_type": "code",
   "execution_count": 39,
   "metadata": {},
   "outputs": [
    {
     "name": "stdout",
     "output_type": "stream",
     "text": [
      "    EmpId  Satisfaction  Evaluation  number_of_projects  average_montly_hours  \\\n",
      "0  780152           3.8         5.3                   2                   157   \n",
      "1  780153           8.0         8.6                   5                   262   \n",
      "2  780154           1.1         8.8                   7                   272   \n",
      "3  780155           7.2         8.7                   5                   223   \n",
      "4  780156           3.7         5.2                   2                   159   \n",
      "\n",
      "   time_spent_company  work_accident  Promotion Department  Salary_INR  Churn  \n",
      "0                   3              0          0      sales       11053      1  \n",
      "1                   6              0          0      sales       54063      1  \n",
      "2                   4              0          0      sales       61300      1  \n",
      "3                   5              0          0      sales       20647      1  \n",
      "4                   3              0          0      sales       17808      1  \n"
     ]
    }
   ],
   "source": [
    "print(Employee_HR.head())"
   ]
  },
  {
   "cell_type": "code",
   "execution_count": 40,
   "metadata": {},
   "outputs": [
    {
     "name": "stdout",
     "output_type": "stream",
     "text": [
      "<class 'pandas.core.frame.DataFrame'>\n",
      "RangeIndex: 14999 entries, 0 to 14998\n",
      "Data columns (total 11 columns):\n",
      " #   Column                Non-Null Count  Dtype  \n",
      "---  ------                --------------  -----  \n",
      " 0   EmpId                 14999 non-null  int64  \n",
      " 1   Satisfaction          14999 non-null  float64\n",
      " 2   Evaluation            14999 non-null  float64\n",
      " 3   number_of_projects    14999 non-null  int64  \n",
      " 4   average_montly_hours  14999 non-null  int64  \n",
      " 5   time_spent_company    14999 non-null  int64  \n",
      " 6   work_accident         14999 non-null  int64  \n",
      " 7   Promotion             14999 non-null  int64  \n",
      " 8   Department            14999 non-null  object \n",
      " 9   Salary_INR            14999 non-null  int64  \n",
      " 10  Churn                 14999 non-null  int64  \n",
      "dtypes: float64(2), int64(8), object(1)\n",
      "memory usage: 1.3+ MB\n",
      "None\n"
     ]
    }
   ],
   "source": [
    "print(Employee_HR.info())"
   ]
  },
  {
   "cell_type": "code",
   "execution_count": 41,
   "metadata": {},
   "outputs": [
    {
     "name": "stdout",
     "output_type": "stream",
     "text": [
      "               EmpId  Satisfaction    Evaluation  number_of_projects  \\\n",
      "count   14999.000000  14999.000000  14999.000000        14999.000000   \n",
      "mean   787651.000000      6.128335      7.161017            3.803054   \n",
      "std      4329.982679      2.486307      1.711691            1.232592   \n",
      "min    780152.000000      0.900000      3.600000            2.000000   \n",
      "25%    783901.500000      4.400000      5.600000            3.000000   \n",
      "50%    787651.000000      6.400000      7.200000            4.000000   \n",
      "75%    791400.500000      8.200000      8.700000            5.000000   \n",
      "max    795150.000000     10.000000     10.000000            7.000000   \n",
      "\n",
      "       average_montly_hours  time_spent_company  work_accident     Promotion  \\\n",
      "count          14999.000000        14999.000000   14999.000000  14999.000000   \n",
      "mean             201.050337            3.498233       0.144610      0.021268   \n",
      "std               49.943099            1.460136       0.351719      0.144281   \n",
      "min               96.000000            2.000000       0.000000      0.000000   \n",
      "25%              156.000000            3.000000       0.000000      0.000000   \n",
      "50%              200.000000            3.000000       0.000000      0.000000   \n",
      "75%              245.000000            4.000000       0.000000      0.000000   \n",
      "max              310.000000           10.000000       1.000000      1.000000   \n",
      "\n",
      "          Salary_INR         Churn  \n",
      "count   14999.000000  14999.000000  \n",
      "mean    62742.699913      0.238083  \n",
      "std     66486.116149      0.425924  \n",
      "min     10000.000000      0.000000  \n",
      "25%     25248.000000      0.000000  \n",
      "50%     41721.000000      0.000000  \n",
      "75%     76354.000000      0.000000  \n",
      "max    399930.000000      1.000000  \n"
     ]
    }
   ],
   "source": [
    "print(Employee_HR.describe())"
   ]
  },
  {
   "cell_type": "code",
   "execution_count": 42,
   "metadata": {},
   "outputs": [
    {
     "name": "stdout",
     "output_type": "stream",
     "text": [
      "164989\n"
     ]
    }
   ],
   "source": [
    "print(Employee_HR.size)"
   ]
  },
  {
   "cell_type": "code",
   "execution_count": 43,
   "metadata": {},
   "outputs": [
    {
     "name": "stdout",
     "output_type": "stream",
     "text": [
      "Index(['EmpId', 'Satisfaction', 'Evaluation', 'number_of_projects',\n",
      "       'average_montly_hours', 'time_spent_company', 'work_accident',\n",
      "       'Promotion', 'Department', 'Salary_INR', 'Churn'],\n",
      "      dtype='object')\n"
     ]
    }
   ],
   "source": [
    "print(Employee_HR.columns)"
   ]
  },
  {
   "cell_type": "code",
   "execution_count": 44,
   "metadata": {},
   "outputs": [
    {
     "name": "stdout",
     "output_type": "stream",
     "text": [
      "EmpId                   14999\n",
      "Satisfaction               92\n",
      "Evaluation                 65\n",
      "number_of_projects          6\n",
      "average_montly_hours      215\n",
      "time_spent_company          8\n",
      "work_accident               2\n",
      "Promotion                   2\n",
      "Department                 10\n",
      "Salary_INR              13842\n",
      "Churn                       2\n",
      "dtype: int64\n"
     ]
    }
   ],
   "source": [
    "Unique_Churn = Employee_HR.nunique()\n",
    "print(Unique_Churn)"
   ]
  },
  {
   "cell_type": "code",
   "execution_count": 45,
   "metadata": {},
   "outputs": [
    {
     "name": "stdout",
     "output_type": "stream",
     "text": [
      "[1 0]\n"
     ]
    }
   ],
   "source": [
    "print(Employee_HR['Churn'].unique())"
   ]
  },
  {
   "cell_type": "code",
   "execution_count": 46,
   "metadata": {},
   "outputs": [
    {
     "name": "stdout",
     "output_type": "stream",
     "text": [
      "Correlation between Satisfaction and average_montly_hours: -0.02\n"
     ]
    }
   ],
   "source": [
    "correlation_1 = Employee_HR['Satisfaction'].corr(Employee_HR['average_montly_hours']).round(3)\n",
    "print(f'Correlation between Satisfaction and average_montly_hours: {correlation_1}')\n"
   ]
  },
  {
   "cell_type": "markdown",
   "metadata": {},
   "source": [
    "This implies that there is no relation between Satisfaction and Monthly hours."
   ]
  },
  {
   "cell_type": "markdown",
   "metadata": {},
   "source": [
    "This can be proved by graphs too."
   ]
  },
  {
   "cell_type": "code",
   "execution_count": 47,
   "metadata": {},
   "outputs": [
    {
     "data": {
      "image/png": "[encoded data removed]",
      "text/plain": [
       "<Figure size 640x480 with 1 Axes>"
      ]
     },
     "metadata": {},
     "output_type": "display_data"
    }
   ],
   "source": [
    "plt.scatter(Employee_HR['Satisfaction'],Employee_HR['average_montly_hours'])\n",
    "plt.show()"
   ]
  },
  {
   "cell_type": "code",
   "execution_count": 48,
   "metadata": {},
   "outputs": [
    {
     "data": {
      "image/png": "[encoded data removed]",
      "text/plain": [
       "<Figure size 640x480 with 1 Axes>"
      ]
     },
     "metadata": {},
     "output_type": "display_data"
    }
   ],
   "source": [
    "plt.bar(Employee_HR['Satisfaction'],Employee_HR['average_montly_hours'])\n",
    "plt.show()\n",
    "# This takes too much time"
   ]
  },
  {
   "cell_type": "code",
   "execution_count": 53,
   "metadata": {},
   "outputs": [
    {
     "name": "stdout",
     "output_type": "stream",
     "text": [
      "Varience of Satisfaction : 6.18\n",
      "Standard deviation of Satisfaction : 2.49\n"
     ]
    }
   ],
   "source": [
    "print(f\"Varience of Satisfaction : {Employee_HR['Satisfaction'].var().round(2)}\")\n",
    "print(f\"Standard deviation of Satisfaction : {Employee_HR['Satisfaction'].std().round(2)}\")"
   ]
  },
  {
   "cell_type": "code",
   "execution_count": 54,
   "metadata": {},
   "outputs": [
    {
     "name": "stdout",
     "output_type": "stream",
     "text": [
      "Varience of Evaluation : 2.93\n",
      "Standard deviation of Evaluation : 1.71\n"
     ]
    }
   ],
   "source": [
    "print(f\"Varience of Evaluation : {Employee_HR['Evaluation'].var().round(2)}\")\n",
    "print(f\"Standard deviation of Evaluation : {Employee_HR['Evaluation'].std().round(2)}\")"
   ]
  },
  {
   "cell_type": "code",
   "execution_count": 55,
   "metadata": {},
   "outputs": [
    {
     "name": "stdout",
     "output_type": "stream",
     "text": [
      "Varience of number_of_projects : 1.52\n",
      "Standard deviation of number_of_projects : 1.23\n"
     ]
    }
   ],
   "source": [
    "print(f\"Varience of number_of_projects : {Employee_HR['number_of_projects'].var().round(2)}\")\n",
    "print(f\"Standard deviation of number_of_projects : {Employee_HR['number_of_projects'].std().round(2)}\")"
   ]
  },
  {
   "cell_type": "code",
   "execution_count": 56,
   "metadata": {},
   "outputs": [
    {
     "name": "stdout",
     "output_type": "stream",
     "text": [
      "Varience of average_montly_hours : 2494.31\n",
      "Standard deviation of average_montly_hours : 49.94\n"
     ]
    }
   ],
   "source": [
    "print(f\"Varience of average_montly_hours : {Employee_HR['average_montly_hours'].var().round(2)}\")\n",
    "print(f\"Standard deviation of average_montly_hours : {Employee_HR['average_montly_hours'].std().round(2)}\")"
   ]
  },
  {
   "cell_type": "code",
   "execution_count": 57,
   "metadata": {},
   "outputs": [
    {
     "name": "stdout",
     "output_type": "stream",
     "text": [
      "Varience of time_spent_company : 2.13\n",
      "Standard deviation of time_spent_company : 1.46\n"
     ]
    }
   ],
   "source": [
    "print(f\"Varience of time_spent_company : {Employee_HR['time_spent_company'].var().round(2)}\")\n",
    "print(f\"Standard deviation of time_spent_company : {Employee_HR['time_spent_company'].std().round(2)}\")"
   ]
  },
  {
   "cell_type": "code",
   "execution_count": 62,
   "metadata": {},
   "outputs": [
    {
     "name": "stdout",
     "output_type": "stream",
     "text": [
      "Interquartile Range : 3.8\n"
     ]
    }
   ],
   "source": [
    "quartile_1_Satisfaction = Employee_HR['Satisfaction'].quantile(0.25)\n",
    "quartile_3_Satisfaction = Employee_HR['Satisfaction'].quantile(0.75)\n",
    "IQR_Satisfaction = (quartile_3_Satisfaction - quartile_1_Satisfaction).round(2)\n",
    "print(f\"Interquartile Range : {IQR_Satisfaction}\")"
   ]
  },
  {
   "cell_type": "code",
   "execution_count": 63,
   "metadata": {},
   "outputs": [
    {
     "name": "stdout",
     "output_type": "stream",
     "text": [
      "Interquartile Range : 3.1\n"
     ]
    }
   ],
   "source": [
    "quartile_1_Evaluation = Employee_HR['Evaluation'].quantile(0.25)\n",
    "quartile_3_Evaluation = Employee_HR['Evaluation'].quantile(0.75)\n",
    "IQR_Evaluation = (quartile_3_Evaluation - quartile_1_Evaluation).round(2)\n",
    "print(f\"Interquartile Range : {IQR_Evaluation}\")"
   ]
  },
  {
   "cell_type": "code",
   "execution_count": 64,
   "metadata": {},
   "outputs": [
    {
     "name": "stdout",
     "output_type": "stream",
     "text": [
      "Interquartile Range : 2.0\n"
     ]
    }
   ],
   "source": [
    "quartile_1_number_of_projects = Employee_HR['number_of_projects'].quantile(0.25)\n",
    "quartile_3_number_of_projects = Employee_HR['number_of_projects'].quantile(0.75)\n",
    "IQR_number_of_projects = (quartile_3_number_of_projects - quartile_1_number_of_projects).round(2)\n",
    "print(f\"Interquartile Range : {IQR_number_of_projects}\")"
   ]
  },
  {
   "cell_type": "code",
   "execution_count": 65,
   "metadata": {},
   "outputs": [
    {
     "name": "stdout",
     "output_type": "stream",
     "text": [
      "Interquartile Range : 89.0\n"
     ]
    }
   ],
   "source": [
    "quartile_1_average_montly_hours = Employee_HR['average_montly_hours'].quantile(0.25)\n",
    "quartile_3_average_montly_hours = Employee_HR['average_montly_hours'].quantile(0.75)\n",
    "IQR_average_montly_hours = (quartile_3_average_montly_hours - quartile_1_average_montly_hours).round(2)\n",
    "print(f\"Interquartile Range : {IQR_average_montly_hours}\")"
   ]
  },
  {
   "cell_type": "code",
   "execution_count": 66,
   "metadata": {},
   "outputs": [
    {
     "name": "stdout",
     "output_type": "stream",
     "text": [
      "Interquartile Range : 1.0\n"
     ]
    }
   ],
   "source": [
    "quartile_1_time_spent_company = Employee_HR['time_spent_company'].quantile(0.25)\n",
    "quartile_3_time_spent_company = Employee_HR['time_spent_company'].quantile(0.75)\n",
    "IQR_time_spent_company = (quartile_3_time_spent_company - quartile_1_time_spent_company).round(2)\n",
    "print(f\"Interquartile Range : {IQR_time_spent_company}\")"
   ]
  },
  {
   "cell_type": "code",
   "execution_count": null,
   "metadata": {},
   "outputs": [],
   "source": []
  }
 ],
 "metadata": {
  "kernelspec": {
   "display_name": "Python 3",
   "language": "python",
   "name": "python3"
  },
  "language_info": {
   "codemirror_mode": {
    "name": "ipython",
    "version": 3
   },
   "file_extension": ".py",
   "mimetype": "text/x-python",
   "name": "python",
   "nbconvert_exporter": "python",
   "pygments_lexer": "ipython3",
   "version": "3.11.5"
  },
  "orig_nbformat": 4
 },
 "nbformat": 4,
 "nbformat_minor": 2
}
