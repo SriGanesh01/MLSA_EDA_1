{
 "cells": [
  {
   "cell_type": "code",
   "execution_count": 4,
   "metadata": {},
   "outputs": [],
   "source": [
    "import pandas as pd\n",
    "import numpy as np\n",
    "import matplotlib.pyplot as plt"
   ]
  },
  {
   "cell_type": "code",
   "execution_count": 6,
   "metadata": {},
   "outputs": [],
   "source": [
    "Employee_HR = pd.read_csv(r\"Employee_HR.csv\")"
   ]
  },
  {
   "cell_type": "code",
   "execution_count": 7,
   "metadata": {},
   "outputs": [
    {
     "name": "stdout",
     "output_type": "stream",
     "text": [
      "    EmpId  Satisfaction  Evaluation  number_of_projects  average_montly_hours  \\\n",
      "0  780152           3.8         5.3                   2                   157   \n",
      "1  780153           8.0         8.6                   5                   262   \n",
      "2  780154           1.1         8.8                   7                   272   \n",
      "3  780155           7.2         8.7                   5                   223   \n",
      "4  780156           3.7         5.2                   2                   159   \n",
      "\n",
      "   time_spent_company  work_accident  Promotion Department  Salary_INR  Churn  \n",
      "0                   3              0          0      sales       11053      1  \n",
      "1                   6              0          0      sales       54063      1  \n",
      "2                   4              0          0      sales       61300      1  \n",
      "3                   5              0          0      sales       20647      1  \n",
      "4                   3              0          0      sales       17808      1  \n"
     ]
    }
   ],
   "source": [
    "print(Employee_HR.head())"
   ]
  }
 ],
 "metadata": {
  "kernelspec": {
   "display_name": "Python 3",
   "language": "python",
   "name": "python3"
  },
  "language_info": {
   "codemirror_mode": {
    "name": "ipython",
    "version": 3
   },
   "file_extension": ".py",
   "mimetype": "text/x-python",
   "name": "python",
   "nbconvert_exporter": "python",
   "pygments_lexer": "ipython3",
   "version": "3.11.5"
  },
  "orig_nbformat": 4
 },
 "nbformat": 4,
 "nbformat_minor": 2
}
